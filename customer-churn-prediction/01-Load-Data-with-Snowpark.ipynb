{
 "cells": [
  {
   "cell_type": "markdown",
   "id": "40e74aaa",
   "metadata": {},
   "source": [
    "# Customer churn analysis\n",
    "\n",
    "#### We are tasked to build an end to end machine learning pipeline using snowpark for customer churn prediction in a telecom company.\n",
    "\n",
    "In this notebook we will load, clean and transform the raw parquet dataset\n",
    "\n",
    "Update the config.py file before moving on to the next cell\n",
    "\n",
    "\n",
    "\n",
    "<img src=\"arch.jpg\"/>\n"
   ]
  },
  {
   "cell_type": "code",
   "execution_count": 34,
   "id": "f0b06da4",
   "metadata": {},
   "outputs": [],
   "source": [
    "from snowflake.snowpark.session import Session\n",
    "from snowflake.snowpark import functions as F\n",
    "from snowflake.snowpark.types import *\n",
    "\n",
    "import pandas as pd\n",
    "\n",
    "from sklearn import linear_model\n",
    "\n",
    "import matplotlib.pyplot as plt\n",
    "\n",
    "%matplotlib inline\n",
    "import datetime as dt\n",
    "import numpy as np\n",
    "import seaborn as sns\n",
    "\n",
    "#Snowflake connection info is saved in config.py\n",
    "from config import snowflake_conn_prop\n",
    "\n",
    "\n",
    "# lets import some tranformations functions\n",
    "from snowflake.snowpark.functions import udf, col, lit, translate, is_null, iff"
   ]
  },
  {
   "cell_type": "code",
   "execution_count": 35,
   "id": "685a3fe0",
   "metadata": {},
   "outputs": [
    {
     "name": "stdout",
     "output_type": "stream",
     "text": [
      "(0, 7, 0)\n"
     ]
    }
   ],
   "source": [
    "from snowflake.snowpark import version\n",
    "print(version.VERSION)"
   ]
  },
  {
   "cell_type": "markdown",
   "id": "1a36d1c4",
   "metadata": {},
   "source": [
    "Let's configure our Snowpark Session and initialize the database, warehouse, and schema that we will use for the remainder of the quickstart."
   ]
  },
  {
   "cell_type": "code",
   "execution_count": 36,
   "id": "24477372",
   "metadata": {},
   "outputs": [
    {
     "name": "stdout",
     "output_type": "stream",
     "text": [
      "(0, 7, 0)\n",
      "[Row(CURRENT_WAREHOUSE()='LAB_S_WH', CURRENT_DATABASE()='SNOWPARK_QUICKSTART', CURRENT_SCHEMA()='TELCO')]\n"
     ]
    }
   ],
   "source": [
    "from snowflake.snowpark import version\n",
    "print(version.VERSION)\n",
    "#session.close()\n",
    "session = Session.builder.configs(snowflake_conn_prop).create()\n",
    "session.sql(\"use role {}\".format(snowflake_conn_prop['role'])).collect()\n",
    "session.sql(\"create database if not exists  {}\".format(snowflake_conn_prop['database'])).collect()\n",
    "session.sql(\"use database {}\".format(snowflake_conn_prop['database'])).collect()\n",
    "session.sql(\"create schema if not exists {}\".format(snowflake_conn_prop['schema'])).collect()\n",
    "session.sql(\"use schema {}\".format(snowflake_conn_prop['schema'])).collect()\n",
    "session.sql(\"create or replace warehouse {} with \\\n",
    "                WAREHOUSE_SIZE = XSMALL \\\n",
    "                AUTO_SUSPEND = 120 \\\n",
    "                AUTO_RESUME = TRUE\".format(snowflake_conn_prop['warehouse'])).collect()\n",
    "session.sql(\"use warehouse {}\".format(snowflake_conn_prop['warehouse']))\n",
    "print(session.sql('select current_warehouse(), current_database(), current_schema()').collect())"
   ]
  },
  {
   "cell_type": "markdown",
   "id": "5248d9b5",
   "metadata": {},
   "source": [
    "## Infer file schema & Load Data into snowflake"
   ]
  },
  {
   "cell_type": "code",
   "execution_count": 37,
   "id": "bcd15bb5",
   "metadata": {},
   "outputs": [],
   "source": [
    "filename = \"raw_telco_data.parquet\"\n",
    "stagename = \"rawdata\"\n",
    "rawtable = \"RAW_PARQUET_DATA\""
   ]
  },
  {
   "cell_type": "code",
   "execution_count": 38,
   "id": "2dc03ea3",
   "metadata": {},
   "outputs": [
    {
     "data": {
      "text/plain": [
       "[PutResult(source='raw_telco_data.parquet', target='raw_telco_data.parquet', source_size=3037540, target_size=3037552, source_compression='PARQUET', target_compression='PARQUET', status='UPLOADED', message='')]"
      ]
     },
     "execution_count": 38,
     "metadata": {},
     "output_type": "execute_result"
    }
   ],
   "source": [
    "session.sql(f\"create or replace stage {stagename} DIRECTORY = (ENABLE = TRUE);\").collect()\n",
    "session.file.put(filename,stagename)"
   ]
  },
  {
   "cell_type": "code",
   "execution_count": 39,
   "id": "e8845b13",
   "metadata": {},
   "outputs": [
    {
     "data": {
      "text/plain": [
       "[Row(status='Table RAW_PARQUET_DATA successfully created.')]"
      ]
     },
     "execution_count": 39,
     "metadata": {},
     "output_type": "execute_result"
    }
   ],
   "source": [
    "session.sql(\"CREATE OR REPLACE FILE FORMAT MY_PARQUET_FORMAT TYPE = PARQUET;\").collect()\n",
    "\n",
    "session.sql(f\"CREATE OR REPLACE \\\n",
    "            TABLE {rawtable} USING TEMPLATE ( \\\n",
    "                SELECT ARRAY_AGG(OBJECT_CONSTRUCT(*)) \\\n",
    "                FROM \\\n",
    "                    TABLE( INFER_SCHEMA( \\\n",
    "                    LOCATION => '@{stagename}/{filename}', \\\n",
    "                    FILE_FORMAT => 'MY_PARQUET_FORMAT' \\\n",
    "                    ) \\\n",
    "                ) \\\n",
    "            );  \").collect()"
   ]
  },
  {
   "cell_type": "markdown",
   "id": "b616dcda",
   "metadata": {},
   "source": [
    "## For incremental load \n",
    "\n",
    "you might want to just delete all rows and load new data to this table"
   ]
  },
  {
   "cell_type": "code",
   "execution_count": 40,
   "id": "c42a1a65",
   "metadata": {},
   "outputs": [],
   "source": [
    "dfClear = session.table(rawtable).delete()"
   ]
  },
  {
   "cell_type": "code",
   "execution_count": 41,
   "id": "bb5590f6",
   "metadata": {},
   "outputs": [
    {
     "data": {
      "text/plain": [
       "[Row(file='rawdata/raw_telco_data.parquet', status='LOADED', rows_parsed=100000, rows_loaded=100000, error_limit=1, errors_seen=0, first_error=None, first_error_line=None, first_error_character=None, first_error_column_name=None)]"
      ]
     },
     "execution_count": 41,
     "metadata": {},
     "output_type": "execute_result"
    }
   ],
   "source": [
    "dfRaw = session.read.option(\"compression\",\"snappy\").parquet(f\"@{stagename}/{filename}\")\n",
    "dfRaw.copy_into_table(rawtable,FORCE= True)"
   ]
  },
  {
   "cell_type": "code",
   "execution_count": 42,
   "id": "69a91e17",
   "metadata": {
    "scrolled": true
   },
   "outputs": [
    {
     "data": {
      "text/html": [
       "<div>\n",
       "<style scoped>\n",
       "    .dataframe tbody tr th:only-of-type {\n",
       "        vertical-align: middle;\n",
       "    }\n",
       "\n",
       "    .dataframe tbody tr th {\n",
       "        vertical-align: top;\n",
       "    }\n",
       "\n",
       "    .dataframe thead th {\n",
       "        text-align: right;\n",
       "    }\n",
       "</style>\n",
       "<table border=\"1\" class=\"dataframe\">\n",
       "  <thead>\n",
       "    <tr style=\"text-align: right;\">\n",
       "      <th></th>\n",
       "      <th>COUNTRY</th>\n",
       "      <th>CITY</th>\n",
       "      <th>PHONE SERVICE</th>\n",
       "      <th>MULTIPLE LINES</th>\n",
       "      <th>LATITUDE</th>\n",
       "      <th>ONLINE SECURITY</th>\n",
       "      <th>SENIOR CITIZEN</th>\n",
       "      <th>MONTHLY CHARGES</th>\n",
       "      <th>STREAMING MOVIES</th>\n",
       "      <th>PAYMENT METHOD</th>\n",
       "      <th>CUSTOMERID</th>\n",
       "      <th>LAT LONG</th>\n",
       "      <th>TENURE MONTHS</th>\n",
       "      <th>COUNT</th>\n",
       "      <th>PAPERLESS BILLING</th>\n",
       "      <th>CHURN VALUE</th>\n",
       "      <th>TECH SUPPORT</th>\n",
       "      <th>CHURN LABEL</th>\n",
       "      <th>PARTNER</th>\n",
       "      <th>DEPENDENTS</th>\n",
       "      <th>INTERNET SERVICE</th>\n",
       "      <th>STREAMING TV</th>\n",
       "      <th>CONTRACT</th>\n",
       "      <th>CHURN SCORE</th>\n",
       "      <th>GENDER</th>\n",
       "      <th>LONGITUDE</th>\n",
       "      <th>ONLINE BACKUP</th>\n",
       "      <th>TOTAL CHARGES</th>\n",
       "      <th>CLTV</th>\n",
       "      <th>CHURN REASON</th>\n",
       "      <th>DEVICE PROTECTION</th>\n",
       "      <th>STATE</th>\n",
       "      <th>ZIP CODE</th>\n",
       "    </tr>\n",
       "  </thead>\n",
       "  <tbody>\n",
       "    <tr>\n",
       "      <th>0</th>\n",
       "      <td>United States</td>\n",
       "      <td>Huntington Beach</td>\n",
       "      <td>Yes</td>\n",
       "      <td>Yes</td>\n",
       "      <td>33.721917</td>\n",
       "      <td>No internet service</td>\n",
       "      <td>False</td>\n",
       "      <td>25.75</td>\n",
       "      <td>No internet service</td>\n",
       "      <td>Mailed check</td>\n",
       "      <td>6451-StWRy</td>\n",
       "      <td>33.721917, -118.043237</td>\n",
       "      <td>52</td>\n",
       "      <td>1</td>\n",
       "      <td>False</td>\n",
       "      <td>0.0</td>\n",
       "      <td>No internet service</td>\n",
       "      <td>False</td>\n",
       "      <td>True</td>\n",
       "      <td>True</td>\n",
       "      <td>No</td>\n",
       "      <td>No internet service</td>\n",
       "      <td>Two year</td>\n",
       "      <td>0</td>\n",
       "      <td>Male</td>\n",
       "      <td>-118.043237</td>\n",
       "      <td>No internet service</td>\n",
       "      <td>1345.85</td>\n",
       "      <td>4676</td>\n",
       "      <td>do not know</td>\n",
       "      <td>No internet service</td>\n",
       "      <td>California</td>\n",
       "      <td>92649</td>\n",
       "    </tr>\n",
       "    <tr>\n",
       "      <th>1</th>\n",
       "      <td>United States</td>\n",
       "      <td>Happy Camp</td>\n",
       "      <td>Yes</td>\n",
       "      <td>No</td>\n",
       "      <td>41.831901</td>\n",
       "      <td>No internet service</td>\n",
       "      <td>False</td>\n",
       "      <td>20.40</td>\n",
       "      <td>No internet service</td>\n",
       "      <td>Bank transfer (automatic)</td>\n",
       "      <td>4560-LbcHc</td>\n",
       "      <td>41.831901, -123.487478</td>\n",
       "      <td>23</td>\n",
       "      <td>1</td>\n",
       "      <td>False</td>\n",
       "      <td>0.0</td>\n",
       "      <td>No internet service</td>\n",
       "      <td>False</td>\n",
       "      <td>True</td>\n",
       "      <td>True</td>\n",
       "      <td>No</td>\n",
       "      <td>No internet service</td>\n",
       "      <td>Two year</td>\n",
       "      <td>0</td>\n",
       "      <td>Female</td>\n",
       "      <td>-123.487478</td>\n",
       "      <td>No internet service</td>\n",
       "      <td>478.75</td>\n",
       "      <td>4698</td>\n",
       "      <td>do not know</td>\n",
       "      <td>No internet service</td>\n",
       "      <td>California</td>\n",
       "      <td>96039</td>\n",
       "    </tr>\n",
       "    <tr>\n",
       "      <th>2</th>\n",
       "      <td>United States</td>\n",
       "      <td>Covelo</td>\n",
       "      <td>Yes</td>\n",
       "      <td>Yes</td>\n",
       "      <td>39.833070</td>\n",
       "      <td>Yes</td>\n",
       "      <td>False</td>\n",
       "      <td>85.90</td>\n",
       "      <td>Yes</td>\n",
       "      <td>Credit card (automatic)</td>\n",
       "      <td>2783-5eD8A</td>\n",
       "      <td>39.83307, -123.178765</td>\n",
       "      <td>72</td>\n",
       "      <td>1</td>\n",
       "      <td>True</td>\n",
       "      <td>0.0</td>\n",
       "      <td>Yes</td>\n",
       "      <td>False</td>\n",
       "      <td>True</td>\n",
       "      <td>False</td>\n",
       "      <td>DSL</td>\n",
       "      <td>Yes</td>\n",
       "      <td>Two year</td>\n",
       "      <td>0</td>\n",
       "      <td>Female</td>\n",
       "      <td>-123.178765</td>\n",
       "      <td>No</td>\n",
       "      <td>6110.75</td>\n",
       "      <td>6361</td>\n",
       "      <td>do not know</td>\n",
       "      <td>Yes</td>\n",
       "      <td>California</td>\n",
       "      <td>95428</td>\n",
       "    </tr>\n",
       "    <tr>\n",
       "      <th>3</th>\n",
       "      <td>United States</td>\n",
       "      <td>Strawberry Valley</td>\n",
       "      <td>Yes</td>\n",
       "      <td>No</td>\n",
       "      <td>39.584580</td>\n",
       "      <td>No</td>\n",
       "      <td>False</td>\n",
       "      <td>95.20</td>\n",
       "      <td>Yes</td>\n",
       "      <td>Credit card (automatic)</td>\n",
       "      <td>1342-3oTBi</td>\n",
       "      <td>39.58458, -121.093256</td>\n",
       "      <td>45</td>\n",
       "      <td>1</td>\n",
       "      <td>True</td>\n",
       "      <td>0.0</td>\n",
       "      <td>Yes</td>\n",
       "      <td>False</td>\n",
       "      <td>True</td>\n",
       "      <td>False</td>\n",
       "      <td>Fiber optic</td>\n",
       "      <td>Yes</td>\n",
       "      <td>Two year</td>\n",
       "      <td>0</td>\n",
       "      <td>Female</td>\n",
       "      <td>-121.093256</td>\n",
       "      <td>No</td>\n",
       "      <td>4285.80</td>\n",
       "      <td>3363</td>\n",
       "      <td>do not know</td>\n",
       "      <td>No</td>\n",
       "      <td>California</td>\n",
       "      <td>95981</td>\n",
       "    </tr>\n",
       "    <tr>\n",
       "      <th>4</th>\n",
       "      <td>United States</td>\n",
       "      <td>Truckee</td>\n",
       "      <td>No</td>\n",
       "      <td>No phone service</td>\n",
       "      <td>39.342498</td>\n",
       "      <td>No</td>\n",
       "      <td>False</td>\n",
       "      <td>25.30</td>\n",
       "      <td>No</td>\n",
       "      <td>Electronic check</td>\n",
       "      <td>7592-cppYl</td>\n",
       "      <td>39.342498, -120.247127</td>\n",
       "      <td>1</td>\n",
       "      <td>1</td>\n",
       "      <td>True</td>\n",
       "      <td>1.0</td>\n",
       "      <td>No</td>\n",
       "      <td>True</td>\n",
       "      <td>False</td>\n",
       "      <td>True</td>\n",
       "      <td>DSL</td>\n",
       "      <td>No</td>\n",
       "      <td>Month-to-month</td>\n",
       "      <td>1</td>\n",
       "      <td>Male</td>\n",
       "      <td>-120.247127</td>\n",
       "      <td>No</td>\n",
       "      <td>25.30</td>\n",
       "      <td>5421</td>\n",
       "      <td>Attitude of service provider</td>\n",
       "      <td>No</td>\n",
       "      <td>California</td>\n",
       "      <td>96161</td>\n",
       "    </tr>\n",
       "  </tbody>\n",
       "</table>\n",
       "</div>"
      ],
      "text/plain": [
       "         COUNTRY               CITY PHONE SERVICE    MULTIPLE LINES  \\\n",
       "0  United States   Huntington Beach           Yes               Yes   \n",
       "1  United States         Happy Camp           Yes                No   \n",
       "2  United States             Covelo           Yes               Yes   \n",
       "3  United States  Strawberry Valley           Yes                No   \n",
       "4  United States            Truckee            No  No phone service   \n",
       "\n",
       "    LATITUDE      ONLINE SECURITY  SENIOR CITIZEN  MONTHLY CHARGES  \\\n",
       "0  33.721917  No internet service           False            25.75   \n",
       "1  41.831901  No internet service           False            20.40   \n",
       "2  39.833070                  Yes           False            85.90   \n",
       "3  39.584580                   No           False            95.20   \n",
       "4  39.342498                   No           False            25.30   \n",
       "\n",
       "      STREAMING MOVIES             PAYMENT METHOD  CUSTOMERID  \\\n",
       "0  No internet service               Mailed check  6451-StWRy   \n",
       "1  No internet service  Bank transfer (automatic)  4560-LbcHc   \n",
       "2                  Yes    Credit card (automatic)  2783-5eD8A   \n",
       "3                  Yes    Credit card (automatic)  1342-3oTBi   \n",
       "4                   No           Electronic check  7592-cppYl   \n",
       "\n",
       "                 LAT LONG  TENURE MONTHS  COUNT  PAPERLESS BILLING  \\\n",
       "0  33.721917, -118.043237             52      1              False   \n",
       "1  41.831901, -123.487478             23      1              False   \n",
       "2   39.83307, -123.178765             72      1               True   \n",
       "3   39.58458, -121.093256             45      1               True   \n",
       "4  39.342498, -120.247127              1      1               True   \n",
       "\n",
       "   CHURN VALUE         TECH SUPPORT  CHURN LABEL  PARTNER  DEPENDENTS  \\\n",
       "0          0.0  No internet service        False     True        True   \n",
       "1          0.0  No internet service        False     True        True   \n",
       "2          0.0                  Yes        False     True       False   \n",
       "3          0.0                  Yes        False     True       False   \n",
       "4          1.0                   No         True    False        True   \n",
       "\n",
       "  INTERNET SERVICE         STREAMING TV        CONTRACT  CHURN SCORE  GENDER  \\\n",
       "0               No  No internet service        Two year            0    Male   \n",
       "1               No  No internet service        Two year            0  Female   \n",
       "2              DSL                  Yes        Two year            0  Female   \n",
       "3      Fiber optic                  Yes        Two year            0  Female   \n",
       "4              DSL                   No  Month-to-month            1    Male   \n",
       "\n",
       "     LONGITUDE        ONLINE BACKUP  TOTAL CHARGES  CLTV  \\\n",
       "0  -118.043237  No internet service        1345.85  4676   \n",
       "1  -123.487478  No internet service         478.75  4698   \n",
       "2  -123.178765                   No        6110.75  6361   \n",
       "3  -121.093256                   No        4285.80  3363   \n",
       "4  -120.247127                   No          25.30  5421   \n",
       "\n",
       "                   CHURN REASON    DEVICE PROTECTION       STATE ZIP CODE  \n",
       "0                   do not know  No internet service  California    92649  \n",
       "1                   do not know  No internet service  California    96039  \n",
       "2                   do not know                  Yes  California    95428  \n",
       "3                   do not know                   No  California    95981  \n",
       "4  Attitude of service provider                   No  California    96161  "
      ]
     },
     "execution_count": 42,
     "metadata": {},
     "output_type": "execute_result"
    }
   ],
   "source": [
    "dfR = session.table(rawtable).sample(n=5)\n",
    "dfR.toPandas()"
   ]
  },
  {
   "cell_type": "markdown",
   "id": "51ff1aae",
   "metadata": {},
   "source": [
    "# Snowpark Transformations\n",
    "\n",
    "The Snowpark API provides programming language constructs for building SQL statements. It's a new developer experience which enables us to build code in :-\n",
    "\n",
    "<b><li>  Language of our choice </li></b>\n",
    "<b><li> Tool of our choice and </li></b>\n",
    "<b><li> Lazy execution to prevent multiple network hops to server </li></b>\n",
    "\n",
    "Once the customer data is available in the RAW schema, we can use snowpark to create dimensions and fact tables. We will use the RAW_PARQUET table to create following tables -\n",
    "    \n",
    "<li> DEMOGRAPHICS </li>\n",
    "<li> LOCATION </li>\n",
    "<li> STATUS </li>\n",
    "<li> SERVICES </li>\n",
    "\n",
    "We will also transform and clean the data using Snowpark dataframe API"
   ]
  },
  {
   "cell_type": "code",
   "execution_count": 43,
   "id": "598e86ae",
   "metadata": {},
   "outputs": [],
   "source": [
    "dfR = session.table(rawtable)"
   ]
  },
  {
   "cell_type": "code",
   "execution_count": 44,
   "id": "3270524d",
   "metadata": {},
   "outputs": [
    {
     "name": "stdout",
     "output_type": "stream",
     "text": [
      "----------------------------------------------------------------------------------\n",
      "|\"CUSTOMERID\"  |\"COUNT\"  |\"GENDER\"  |\"SENIORCITIZEN\"  |\"PARTNER\"  |\"DEPENDENTS\"  |\n",
      "----------------------------------------------------------------------------------\n",
      "|7090-ZyCMx    |1        |Female    |False            |False      |True          |\n",
      "|1364-wJXMS    |1        |Female    |False            |False      |True          |\n",
      "|6564-sLgIC    |1        |Male      |True             |False      |True          |\n",
      "|7853-2xheR    |1        |Male      |False            |False      |True          |\n",
      "|8457-E9FuW    |1        |Female    |False            |False      |True          |\n",
      "|5718-ykxBT    |1        |Male      |False            |False      |True          |\n",
      "|7092-gCJX5    |1        |Male      |False            |False      |False         |\n",
      "|8249-GOs7s    |1        |Male      |True             |False      |False         |\n",
      "|9445-kPPEc    |1        |Male      |False            |False      |False         |\n",
      "|1581-8yNji    |1        |Male      |True             |True       |False         |\n",
      "----------------------------------------------------------------------------------\n",
      "\n"
     ]
    }
   ],
   "source": [
    "dfDemographics = dfR.select(col(\"CUSTOMERID\"),\n",
    "                             col(\"COUNT\").alias(\"COUNT\"),\n",
    "                             translate(col(\"GENDER\"),lit(\"NULL\"),lit(\"Male\")).alias(\"GENDER\"),\n",
    "                             col(\"SENIOR CITIZEN\").alias(\"SENIORCITIZEN\"),\n",
    "                             col(\"PARTNER\"),\n",
    "                             col(\"DEPENDENTS\")          \n",
    "                            )\n",
    "\n",
    "\n",
    "dfDemographics.write.mode('overwrite').saveAsTable('DEMOGRAPHICS')\n",
    "dfDemographics.show()\n"
   ]
  },
  {
   "cell_type": "code",
   "execution_count": 45,
   "id": "817210af",
   "metadata": {},
   "outputs": [
    {
     "name": "stdout",
     "output_type": "stream",
     "text": [
      "-------------------------------------------------------------------------------------------------------------------------------\n",
      "|\"CUSTOMERID\"  |\"COUNTRY\"      |\"STATE\"     |\"CITY\"           |\"ZIPCODE\"  |\"LATLONG\"               |\"LATITUDE\"  |\"LONGITUDE\"  |\n",
      "-------------------------------------------------------------------------------------------------------------------------------\n",
      "|7090-ZyCMx    |United States  |California  |Los Angeles      |90005      |34.059281, -118.30742   |34.059281   |-118.307420  |\n",
      "|1364-wJXMS    |United States  |California  |Los Angeles      |90006      |34.048013, -118.293953  |34.048013   |-118.293953  |\n",
      "|6564-sLgIC    |United States  |California  |Los Angeles      |90065      |34.108833, -118.229715  |34.108833   |-118.229715  |\n",
      "|7853-2xheR    |United States  |California  |La Habra         |90631      |33.940619, -117.9513    |33.940619   |-117.951300  |\n",
      "|8457-E9FuW    |United States  |California  |Glendale         |91206      |34.162515, -118.203869  |34.162515   |-118.203869  |\n",
      "|5718-ykxBT    |United States  |California  |Burbank          |91504      |34.213049, -118.317651  |34.213049   |-118.317651  |\n",
      "|7092-gCJX5    |United States  |California  |Ontario          |91762      |34.057256, -117.667677  |34.057256   |-117.667677  |\n",
      "|8249-GOs7s    |United States  |California  |Alpine           |91901      |32.827184, -116.703729  |32.827184   |-116.703729  |\n",
      "|9445-kPPEc    |United States  |California  |Borrego Springs  |92004      |33.200369, -116.192313  |33.200369   |-116.192313  |\n",
      "|1581-8yNji    |United States  |California  |Del Mar          |92014      |32.948262, -117.256086  |32.948262   |-117.256086  |\n",
      "-------------------------------------------------------------------------------------------------------------------------------\n",
      "\n"
     ]
    }
   ],
   "source": [
    "dfLocation = dfR.select(col(\"CUSTOMERID\"),\n",
    "                         col(\"COUNTRY\").name(\"COUNTRY\"),\n",
    "                         col(\"STATE\").name(\"STATE\"),\n",
    "                         col(\"CITY\").name(\"CITY\"),\n",
    "                         translate(col(\"ZIP CODE\"),lit(\"NULL\"),lit(0)).name(\"ZIPCODE\"),\n",
    "                         col(\"LAT LONG\").name(\"LATLONG\"),\n",
    "                         col(\"LATITUDE\").name(\"LATITUDE\"),\n",
    "                         col(\"LONGITUDE\").name(\"LONGITUDE\")       \n",
    "                        )\n",
    "\n",
    "dfLocation.write.mode('overwrite').saveAsTable('LOCATION')\n",
    "dfLocation.show()\n"
   ]
  },
  {
   "cell_type": "markdown",
   "id": "45b8b976",
   "metadata": {},
   "source": [
    "#### you can run transformation on data using similar dataframe API constructs, for example -"
   ]
  },
  {
   "cell_type": "code",
   "execution_count": 46,
   "id": "49423699",
   "metadata": {},
   "outputs": [
    {
     "name": "stdout",
     "output_type": "stream",
     "text": [
      "----------------------------------------------------------------------------------------------------------------------------------------------------------------------------------------------------------------------------------------------------------------------------------------------------------------------------------------\n",
      "|\"CUSTOMERID\"  |\"TENUREMONTHS\"  |\"PHONESERVICE\"  |\"MULTIPLELINES\"  |\"INTERNETSERVICE\"  |\"ONLINESECURITY\"     |\"ONLINEBACKUP\"       |\"DEVICEPROTECTION\"   |\"TECHSUPPORT\"        |\"STREAMINGTV\"        |\"STREAMINGMOVIES\"    |\"CONTRACT\"      |\"PAPERLESSBILLING\"  |\"PAYMENTMETHOD\"   |\"MONTHLYCHARGES\"  |\"TOTALCHARGES\"  |\"CHURNVALUE\"  |\n",
      "----------------------------------------------------------------------------------------------------------------------------------------------------------------------------------------------------------------------------------------------------------------------------------------------------------------------------------------\n",
      "|7090-ZyCMx    |2               |Yes             |No               |Fiber optic        |No                   |No                   |No                   |No                   |No                   |No                   |Month-to-month  |true                |Electronic check  |70.7              |151.65          |1.0           |\n",
      "|1364-wJXMS    |8               |Yes             |Yes              |Fiber optic        |No                   |No                   |Yes                  |No                   |Yes                  |Yes                  |Month-to-month  |true                |Electronic check  |99.65             |820.5           |1.0           |\n",
      "|6564-sLgIC    |18              |Yes             |Yes              |Fiber optic        |No                   |No                   |No                   |No                   |Yes                  |Yes                  |Month-to-month  |true                |Electronic check  |95.45             |1752.55         |1.0           |\n",
      "|7853-2xheR    |3               |Yes             |Yes              |Fiber optic        |No                   |No                   |No                   |No                   |No                   |No                   |Month-to-month  |true                |Electronic check  |74.4              |229.55          |1.0           |\n",
      "|8457-E9FuW    |13              |Yes             |No               |Fiber optic        |No                   |Yes                  |Yes                  |No                   |No                   |No                   |Month-to-month  |true                |Electronic check  |79.25             |1111.65         |1.0           |\n",
      "|5718-ykxBT    |1               |Yes             |No               |Fiber optic        |Yes                  |No                   |No                   |No                   |No                   |Yes                  |Month-to-month  |true                |Mailed check      |84.6              |84.6            |1.0           |\n",
      "|7092-gCJX5    |59              |Yes             |No               |No                 |No internet service  |No internet service  |No internet service  |No internet service  |No internet service  |No internet service  |Two year        |false               |Mailed check      |19.35             |1099.6          |1.0           |\n",
      "|8249-GOs7s    |8               |Yes             |No               |Fiber optic        |No                   |Yes                  |No                   |No                   |No                   |No                   |Month-to-month  |true                |Electronic check  |74.5              |606.55          |1.0           |\n",
      "|9445-kPPEc    |5               |Yes             |No               |Fiber optic        |No                   |No                   |No                   |No                   |Yes                  |No                   |Month-to-month  |true                |Electronic check  |80.6              |415.55          |1.0           |\n",
      "|1581-8yNji    |24              |Yes             |No               |Fiber optic        |No                   |No                   |Yes                  |No                   |Yes                  |Yes                  |Month-to-month  |true                |Electronic check  |93.15             |2231.05         |1.0           |\n",
      "----------------------------------------------------------------------------------------------------------------------------------------------------------------------------------------------------------------------------------------------------------------------------------------------------------------------------------------\n",
      "\n"
     ]
    }
   ],
   "source": [
    "dfServices = dfR.select(col(\"CUSTOMERID\"),\n",
    "                       col(\"TENURE MONTHS\").name(\"TENUREMONTHS\"),\n",
    "                       iff(is_null(col(\"PHONE SERVICE\")),lit('N'),col(\"PHONE SERVICE\")).name(\"PHONESERVICE\"),\n",
    "                       iff(is_null(col(\"MULTIPLE LINES\")),lit(\"No\"),col(\"MULTIPLE LINES\")).name(\"MULTIPLELINES\"),\n",
    "                       iff(is_null(col(\"INTERNET SERVICE\")),lit(\"No\"),col(\"INTERNET SERVICE\")).name(\"INTERNETSERVICE\"),\n",
    "                       iff(is_null(col(\"ONLINE SECURITY\")),lit(\"No\"),col(\"ONLINE SECURITY\")).name(\"ONLINESECURITY\"),\n",
    "                       iff(is_null(col(\"ONLINE BACKUP\")),lit(\"No\"),col(\"ONLINE BACKUP\")).name(\"ONLINEBACKUP\"),\n",
    "                       iff(is_null(col(\"DEVICE PROTECTION\")),lit(\"No\"),col(\"DEVICE PROTECTION\")).name(\"DEVICEPROTECTION\"),\n",
    "                       iff(is_null(col(\"TECH SUPPORT\")),lit('N'),col(\"TECH SUPPORT\")).name(\"TECHSUPPORT\"),\n",
    "                       iff(is_null(col(\"STREAMING TV\")),lit(\"No\"),col(\"STREAMING TV\")).name(\"STREAMINGTV\"),\n",
    "                       iff(is_null(col(\"STREAMING MOVIES\")),lit(\"No\"),col(\"STREAMING MOVIES\")).name(\"STREAMINGMOVIES\"),\n",
    "                       iff(is_null(col(\"CONTRACT\")),lit(\"Month-to-month\"),col(\"CONTRACT\")).name(\"CONTRACT\"),\n",
    "                       iff(is_null(col(\"PAPERLESS BILLING\")),lit('Y'),col(\"PAPERLESS BILLING\")).name(\"PAPERLESSBILLING\"),\n",
    "                       iff(is_null(col(\"PAYMENT METHOD\")),lit(\"Mailed check\"),col(\"PAYMENT METHOD\")).name(\"PAYMENTMETHOD\"),\n",
    "                       col(\"MONTHLY CHARGES\").name(\"MONTHLYCHARGES\"),\n",
    "                       col(\"TOTAL CHARGES\").name(\"TOTALCHARGES\"),\n",
    "                       col(\"CHURN VALUE\").name(\"CHURNVALUE\")        \n",
    "\n",
    "                      )\n",
    "\n",
    "dfServices.write.mode('overwrite').saveAsTable('SERVICES')\n",
    "dfServices.show()"
   ]
  },
  {
   "cell_type": "code",
   "execution_count": 47,
   "id": "d18c28d7",
   "metadata": {},
   "outputs": [
    {
     "name": "stdout",
     "output_type": "stream",
     "text": [
      "-----------------------------------------------------------------------------------------------------------------\n",
      "|\"CUSTOMERID\"  |\"CHURNLABEL\"  |\"CHURNVALUE\"  |\"CHURNSCORE\"  |\"CLTV\"  |\"CHURNREASON\"                             |\n",
      "-----------------------------------------------------------------------------------------------------------------\n",
      "|7090-ZyCMx    |true          |1.0           |1             |2701    |Moved                                     |\n",
      "|1364-wJXMS    |true          |1.0           |1             |5372    |Moved                                     |\n",
      "|6564-sLgIC    |true          |1.0           |1             |3179    |Competitor made better offer              |\n",
      "|7853-2xheR    |true          |1.0           |1             |4415    |Product dissatisfaction                   |\n",
      "|8457-E9FuW    |true          |1.0           |1             |5142    |Price too high                            |\n",
      "|5718-ykxBT    |true          |1.0           |1             |2484    |Poor expertise of phone support           |\n",
      "|7092-gCJX5    |true          |1.0           |1             |5084    |Price too high                            |\n",
      "|8249-GOs7s    |true          |1.0           |1             |4345    |Poor expertise of online support          |\n",
      "|9445-kPPEc    |true          |1.0           |1             |5715    |Network reliability                       |\n",
      "|1581-8yNji    |true          |1.0           |1             |2212    |Lack of affordable download/upload speed  |\n",
      "-----------------------------------------------------------------------------------------------------------------\n",
      "\n"
     ]
    }
   ],
   "source": [
    "dfStatus = dfR.select(col(\"CUSTOMERID\"),\n",
    "                    iff(is_null(col(\"CHURN LABEL\")),lit('N'),col(\"CHURN LABEL\")).name(\"CHURNLABEL\"),\n",
    "                    col(\"CHURN VALUE\").name(\"CHURNVALUE\"),\n",
    "                    col(\"CHURN SCORE\").name(\"CHURNSCORE\"),\n",
    "                    col(\"CLTV\").name(\"CLTV\"),\n",
    "                    iff(is_null(col(\"CHURN REASON\")),lit(\"do not know\"),col(\"CHURN REASON\")).name(\"CHURNREASON\")          \n",
    "                    )\n",
    "\n",
    "dfStatus.write.mode('overwrite').saveAsTable('STATUS')\n",
    "dfStatus.show()\n"
   ]
  },
  {
   "cell_type": "markdown",
   "id": "d3ce458f",
   "metadata": {},
   "source": [
    "# Lets check the data using an example query\n",
    "\n",
    "This shows one of many uses of snowpark. You can build and query dataframes lazily."
   ]
  },
  {
   "cell_type": "code",
   "execution_count": 48,
   "id": "fa1f611a",
   "metadata": {},
   "outputs": [
    {
     "name": "stdout",
     "output_type": "stream",
     "text": [
      "----------------------------------------------------------\n",
      "|\"CITY\"           |\"CONTRACT\"      |\"SUM(TOTALCHARGES)\"  |\n",
      "----------------------------------------------------------\n",
      "|Los Angeles      |Month-to-month  |3931004.7            |\n",
      "|La Habra         |Month-to-month  |6828.35              |\n",
      "|Glendale         |Month-to-month  |460483.05            |\n",
      "|Burbank          |Month-to-month  |378354.4             |\n",
      "|Ontario          |Two year        |57487.6              |\n",
      "|Alpine           |Month-to-month  |69186.04999999999    |\n",
      "|Borrego Springs  |Month-to-month  |94737.0              |\n",
      "|Oceanside        |Month-to-month  |49559.5              |\n",
      "|Niland           |Month-to-month  |24946.0              |\n",
      "|San Bernardino   |Month-to-month  |253583.3             |\n",
      "----------------------------------------------------------\n",
      "\n"
     ]
    }
   ],
   "source": [
    "# Lets run a query for quick sanity check\n",
    "# This Query will show us the total revenue by city and contract term\n",
    "\n",
    "dfLoc = session.table(\"LOCATION\")\n",
    "dfServ = session.table(\"SERVICES\")\n",
    "\n",
    "dfJoin = dfLoc.join(dfServ,dfLoc.col(\"CUSTOMERID\") == dfServ.col(\"CUSTOMERID\"))\n",
    "\n",
    "dfResult = dfJoin.select(col(\"CITY\"),\n",
    "                         col(\"CONTRACT\"),\n",
    "                         col(\"TOTALCHARGES\")).groupBy(col(\"CITY\"),col(\"CONTRACT\")).sum(col(\"TOTALCHARGES\"))\n",
    "\n",
    "dfResult.show()"
   ]
  },
  {
   "cell_type": "markdown",
   "id": "f152f92a",
   "metadata": {},
   "source": [
    "### Let's create a view for data science team to begin data analysis"
   ]
  },
  {
   "cell_type": "markdown",
   "id": "96cba333",
   "metadata": {},
   "source": [
    "To do so, join up the `DEMOGRAPHICS` and `SERVICES` tables based on `CUSTOMERID`"
   ]
  },
  {
   "cell_type": "code",
   "execution_count": 49,
   "id": "7aac1800",
   "metadata": {},
   "outputs": [
    {
     "data": {
      "text/plain": [
       "[Row(status='View TRAIN_DATASET successfully created.')]"
      ]
     },
     "execution_count": 49,
     "metadata": {},
     "output_type": "execute_result"
    }
   ],
   "source": [
    "dfD = session.table('DEMOGRAPHICS')\n",
    "dfS = session.table('SERVICES')\n",
    "dfJ = dfD.join(dfS, using_columns='CUSTOMERID', join_type = 'left')\n",
    "dfJ.select(col('GENDER'),\n",
    "              col('SENIORCITIZEN'),\n",
    "              col('PARTNER'),\n",
    "              col('DEPENDENTS'),\n",
    "              col('MULTIPLELINES'),\n",
    "              col('INTERNETSERVICE'),\n",
    "              col('ONLINESECURITY'),\n",
    "              col('ONLINEBACKUP'),\n",
    "              col('DEVICEPROTECTION'),\n",
    "              col('TECHSUPPORT'),\n",
    "              col('STREAMINGTV'),\n",
    "              col('STREAMINGMOVIES'),\n",
    "              col('CONTRACT'),\n",
    "              col('PAPERLESSBILLING'),\n",
    "              col('PAYMENTMETHOD'),\n",
    "              col('TENUREMONTHS'),\n",
    "              col('MONTHLYCHARGES'),\n",
    "              col('TOTALCHARGES'),\n",
    "              col('CHURNVALUE'))\n",
    "dfJ.create_or_replace_view('TRAIN_DATASET')"
   ]
  },
  {
   "cell_type": "code",
   "execution_count": 50,
   "id": "9e619437",
   "metadata": {},
   "outputs": [
    {
     "name": "stdout",
     "output_type": "stream",
     "text": [
      "CPU times: user 9.46 ms, sys: 3.11 ms, total: 12.6 ms\n",
      "Wall time: 564 ms\n"
     ]
    }
   ],
   "source": [
    "%%time\n",
    "\n",
    "raw = session.table('TRAIN_DATASET').sample(n = 20)\n",
    "data = raw.toPandas()"
   ]
  },
  {
   "cell_type": "markdown",
   "id": "96bb54b7",
   "metadata": {},
   "source": [
    "# Off to ~02 notebook for exploratory data analysis"
   ]
  },
  {
   "cell_type": "code",
   "execution_count": 51,
   "id": "c180046a",
   "metadata": {
    "scrolled": true
   },
   "outputs": [
    {
     "data": {
      "text/html": [
       "<div>\n",
       "<style scoped>\n",
       "    .dataframe tbody tr th:only-of-type {\n",
       "        vertical-align: middle;\n",
       "    }\n",
       "\n",
       "    .dataframe tbody tr th {\n",
       "        vertical-align: top;\n",
       "    }\n",
       "\n",
       "    .dataframe thead th {\n",
       "        text-align: right;\n",
       "    }\n",
       "</style>\n",
       "<table border=\"1\" class=\"dataframe\">\n",
       "  <thead>\n",
       "    <tr style=\"text-align: right;\">\n",
       "      <th></th>\n",
       "      <th>CUSTOMERID</th>\n",
       "      <th>COUNT</th>\n",
       "      <th>GENDER</th>\n",
       "      <th>SENIORCITIZEN</th>\n",
       "      <th>PARTNER</th>\n",
       "      <th>DEPENDENTS</th>\n",
       "      <th>TENUREMONTHS</th>\n",
       "      <th>PHONESERVICE</th>\n",
       "      <th>MULTIPLELINES</th>\n",
       "      <th>INTERNETSERVICE</th>\n",
       "      <th>ONLINESECURITY</th>\n",
       "      <th>ONLINEBACKUP</th>\n",
       "      <th>DEVICEPROTECTION</th>\n",
       "      <th>TECHSUPPORT</th>\n",
       "      <th>STREAMINGTV</th>\n",
       "      <th>STREAMINGMOVIES</th>\n",
       "      <th>CONTRACT</th>\n",
       "      <th>PAPERLESSBILLING</th>\n",
       "      <th>PAYMENTMETHOD</th>\n",
       "      <th>MONTHLYCHARGES</th>\n",
       "      <th>TOTALCHARGES</th>\n",
       "      <th>CHURNVALUE</th>\n",
       "    </tr>\n",
       "  </thead>\n",
       "  <tbody>\n",
       "    <tr>\n",
       "      <th>0</th>\n",
       "      <td>8421-KueSn</td>\n",
       "      <td>1</td>\n",
       "      <td>Female</td>\n",
       "      <td>False</td>\n",
       "      <td>True</td>\n",
       "      <td>False</td>\n",
       "      <td>18</td>\n",
       "      <td>No</td>\n",
       "      <td>No phone service</td>\n",
       "      <td>DSL</td>\n",
       "      <td>No</td>\n",
       "      <td>No</td>\n",
       "      <td>Yes</td>\n",
       "      <td>No</td>\n",
       "      <td>Yes</td>\n",
       "      <td>No</td>\n",
       "      <td>Month-to-month</td>\n",
       "      <td>true</td>\n",
       "      <td>Electronic check</td>\n",
       "      <td>39.05</td>\n",
       "      <td>669.85</td>\n",
       "      <td>1.0</td>\n",
       "    </tr>\n",
       "    <tr>\n",
       "      <th>1</th>\n",
       "      <td>3894-vukKu</td>\n",
       "      <td>1</td>\n",
       "      <td>Female</td>\n",
       "      <td>True</td>\n",
       "      <td>True</td>\n",
       "      <td>False</td>\n",
       "      <td>58</td>\n",
       "      <td>Yes</td>\n",
       "      <td>Yes</td>\n",
       "      <td>Fiber optic</td>\n",
       "      <td>No</td>\n",
       "      <td>Yes</td>\n",
       "      <td>No</td>\n",
       "      <td>No</td>\n",
       "      <td>Yes</td>\n",
       "      <td>Yes</td>\n",
       "      <td>One year</td>\n",
       "      <td>true</td>\n",
       "      <td>Bank transfer (automatic)</td>\n",
       "      <td>97.80</td>\n",
       "      <td>5458.80</td>\n",
       "      <td>0.0</td>\n",
       "    </tr>\n",
       "    <tr>\n",
       "      <th>2</th>\n",
       "      <td>3719-sdKhW</td>\n",
       "      <td>1</td>\n",
       "      <td>Female</td>\n",
       "      <td>False</td>\n",
       "      <td>True</td>\n",
       "      <td>True</td>\n",
       "      <td>72</td>\n",
       "      <td>Yes</td>\n",
       "      <td>Yes</td>\n",
       "      <td>Fiber optic</td>\n",
       "      <td>Yes</td>\n",
       "      <td>Yes</td>\n",
       "      <td>Yes</td>\n",
       "      <td>Yes</td>\n",
       "      <td>Yes</td>\n",
       "      <td>Yes</td>\n",
       "      <td>Two year</td>\n",
       "      <td>true</td>\n",
       "      <td>Credit card (automatic)</td>\n",
       "      <td>116.80</td>\n",
       "      <td>8456.75</td>\n",
       "      <td>0.0</td>\n",
       "    </tr>\n",
       "    <tr>\n",
       "      <th>3</th>\n",
       "      <td>6048-j6ZL5</td>\n",
       "      <td>1</td>\n",
       "      <td>Male</td>\n",
       "      <td>False</td>\n",
       "      <td>False</td>\n",
       "      <td>False</td>\n",
       "      <td>51</td>\n",
       "      <td>Yes</td>\n",
       "      <td>No</td>\n",
       "      <td>Fiber optic</td>\n",
       "      <td>Yes</td>\n",
       "      <td>No</td>\n",
       "      <td>No</td>\n",
       "      <td>No</td>\n",
       "      <td>Yes</td>\n",
       "      <td>No</td>\n",
       "      <td>One year</td>\n",
       "      <td>false</td>\n",
       "      <td>Mailed check</td>\n",
       "      <td>86.35</td>\n",
       "      <td>4267.15</td>\n",
       "      <td>0.0</td>\n",
       "    </tr>\n",
       "    <tr>\n",
       "      <th>4</th>\n",
       "      <td>4252-jc4zo</td>\n",
       "      <td>1</td>\n",
       "      <td>Male</td>\n",
       "      <td>True</td>\n",
       "      <td>False</td>\n",
       "      <td>False</td>\n",
       "      <td>12</td>\n",
       "      <td>Yes</td>\n",
       "      <td>Yes</td>\n",
       "      <td>Fiber optic</td>\n",
       "      <td>No</td>\n",
       "      <td>No</td>\n",
       "      <td>No</td>\n",
       "      <td>No</td>\n",
       "      <td>No</td>\n",
       "      <td>No</td>\n",
       "      <td>Month-to-month</td>\n",
       "      <td>true</td>\n",
       "      <td>Credit card (automatic)</td>\n",
       "      <td>73.30</td>\n",
       "      <td>828.05</td>\n",
       "      <td>0.0</td>\n",
       "    </tr>\n",
       "  </tbody>\n",
       "</table>\n",
       "</div>"
      ],
      "text/plain": [
       "   CUSTOMERID  COUNT  GENDER  SENIORCITIZEN  PARTNER  DEPENDENTS  \\\n",
       "0  8421-KueSn      1  Female          False     True       False   \n",
       "1  3894-vukKu      1  Female           True     True       False   \n",
       "2  3719-sdKhW      1  Female          False     True        True   \n",
       "3  6048-j6ZL5      1    Male          False    False       False   \n",
       "4  4252-jc4zo      1    Male           True    False       False   \n",
       "\n",
       "   TENUREMONTHS PHONESERVICE     MULTIPLELINES INTERNETSERVICE ONLINESECURITY  \\\n",
       "0            18           No  No phone service             DSL             No   \n",
       "1            58          Yes               Yes     Fiber optic             No   \n",
       "2            72          Yes               Yes     Fiber optic            Yes   \n",
       "3            51          Yes                No     Fiber optic            Yes   \n",
       "4            12          Yes               Yes     Fiber optic             No   \n",
       "\n",
       "  ONLINEBACKUP DEVICEPROTECTION TECHSUPPORT STREAMINGTV STREAMINGMOVIES  \\\n",
       "0           No              Yes          No         Yes              No   \n",
       "1          Yes               No          No         Yes             Yes   \n",
       "2          Yes              Yes         Yes         Yes             Yes   \n",
       "3           No               No          No         Yes              No   \n",
       "4           No               No          No          No              No   \n",
       "\n",
       "         CONTRACT PAPERLESSBILLING              PAYMENTMETHOD  MONTHLYCHARGES  \\\n",
       "0  Month-to-month             true           Electronic check           39.05   \n",
       "1        One year             true  Bank transfer (automatic)           97.80   \n",
       "2        Two year             true    Credit card (automatic)          116.80   \n",
       "3        One year            false               Mailed check           86.35   \n",
       "4  Month-to-month             true    Credit card (automatic)           73.30   \n",
       "\n",
       "   TOTALCHARGES  CHURNVALUE  \n",
       "0        669.85         1.0  \n",
       "1       5458.80         0.0  \n",
       "2       8456.75         0.0  \n",
       "3       4267.15         0.0  \n",
       "4        828.05         0.0  "
      ]
     },
     "execution_count": 51,
     "metadata": {},
     "output_type": "execute_result"
    }
   ],
   "source": [
    "pd.pandas.set_option('display.max_columns', None)\n",
    "data.head()"
   ]
  },
  {
   "cell_type": "code",
   "execution_count": 52,
   "id": "af045ff0",
   "metadata": {},
   "outputs": [],
   "source": [
    "session.close()"
   ]
  }
 ],
 "metadata": {
  "kernelspec": {
   "display_name": "getting_started_snowpark_python",
   "language": "python",
   "name": "getting_started_snowpark_python"
  },
  "language_info": {
   "codemirror_mode": {
    "name": "ipython",
    "version": 3
   },
   "file_extension": ".py",
   "mimetype": "text/x-python",
   "name": "python",
   "nbconvert_exporter": "python",
   "pygments_lexer": "ipython3",
   "version": "3.8.13"
  }
 },
 "nbformat": 4,
 "nbformat_minor": 5
}
